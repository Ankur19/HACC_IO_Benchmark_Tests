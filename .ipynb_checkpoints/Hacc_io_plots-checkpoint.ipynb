{
 "cells": [
  {
   "cell_type": "code",
   "execution_count": 1,
   "metadata": {},
   "outputs": [],
   "source": [
    "import os\n",
    "import pandas as pd"
   ]
  },
  {
   "cell_type": "code",
   "execution_count": 2,
   "metadata": {},
   "outputs": [
    {
     "data": {
      "text/plain": [
       "'/home/asaikia/Downloads/HACC_IO_Benchmark_Tests'"
      ]
     },
     "execution_count": 2,
     "metadata": {},
     "output_type": "execute_result"
    }
   ],
   "source": [
    "os.getcwd()"
   ]
  },
  {
   "cell_type": "code",
   "execution_count": 3,
   "metadata": {},
   "outputs": [
    {
     "data": {
      "text/plain": [
       "['bindMountResults.csv',\n",
       " 'hacc_plots',\n",
       " 'testhacc_open_close.o',\n",
       " 'testhacc_open_close.cc',\n",
       " 'restartio_glean.h',\n",
       " 'volumeResults',\n",
       " 'bindMountResults',\n",
       " 'testhacc_printinfo.cc',\n",
       " '.git',\n",
       " 'localResults.csv',\n",
       " 'volumeResults.csv',\n",
       " 'haccScript.sh',\n",
       " 'hacc_io',\n",
       " 'testhacc_io_read.o',\n",
       " 'README.md',\n",
       " 'glean_util_printmessage.h',\n",
       " 'LICENSE',\n",
       " '.ipynb_checkpoints',\n",
       " 'hacc_io_write',\n",
       " 'restartio_glean.cc',\n",
       " 'bindMountResults_1.csv',\n",
       " 'hacc_io_read',\n",
       " 'results',\n",
       " 'testhacc_printinfo.o',\n",
       " 'Hacc_io_plots.ipynb',\n",
       " 'testhacc_io.cc',\n",
       " 'hacc_open_close',\n",
       " 'localResults_1.csv',\n",
       " 'Makefile',\n",
       " 'volumeResults_1.csv',\n",
       " 'localResults',\n",
       " 'testhacc_io_write.o',\n",
       " 'processResults.py',\n",
       " 'restartio_glean.o',\n",
       " 'hacc_printinfo',\n",
       " 'testhacc_io.o']"
      ]
     },
     "execution_count": 3,
     "metadata": {},
     "output_type": "execute_result"
    }
   ],
   "source": [
    "os.listdir(\".\")"
   ]
  },
  {
   "cell_type": "code",
   "execution_count": 4,
   "metadata": {},
   "outputs": [],
   "source": [
    "df_local = pd.read_csv('localResults.csv', index_col=0)\n",
    "df_volume = pd.read_csv('volumeResults.csv', index_col=0)\n",
    "df_bind = pd.read_csv('bindMountResults.csv', index_col=0)"
   ]
  },
  {
   "cell_type": "code",
   "execution_count": 5,
   "metadata": {
    "scrolled": true
   },
   "outputs": [
    {
     "data": {
      "text/html": [
       "<div>\n",
       "<style scoped>\n",
       "    .dataframe tbody tr th:only-of-type {\n",
       "        vertical-align: middle;\n",
       "    }\n",
       "\n",
       "    .dataframe tbody tr th {\n",
       "        vertical-align: top;\n",
       "    }\n",
       "\n",
       "    .dataframe thead th {\n",
       "        text-align: right;\n",
       "    }\n",
       "</style>\n",
       "<table border=\"1\" class=\"dataframe\">\n",
       "  <thead>\n",
       "    <tr style=\"text-align: right;\">\n",
       "      <th></th>\n",
       "      <th>Bandwidth</th>\n",
       "      <th>Size</th>\n",
       "      <th>MaxTime</th>\n",
       "      <th>ReadWrite</th>\n",
       "      <th>NumParticles</th>\n",
       "      <th>NumProcesses</th>\n",
       "    </tr>\n",
       "  </thead>\n",
       "  <tbody>\n",
       "    <tr>\n",
       "      <th>0</th>\n",
       "      <td>1980.008</td>\n",
       "      <td>63165824</td>\n",
       "      <td>0.030433</td>\n",
       "      <td>Write</td>\n",
       "      <td>1000000</td>\n",
       "      <td>1</td>\n",
       "    </tr>\n",
       "    <tr>\n",
       "      <th>1</th>\n",
       "      <td>2999.070</td>\n",
       "      <td>63165824</td>\n",
       "      <td>0.020202</td>\n",
       "      <td>Read</td>\n",
       "      <td>1000000</td>\n",
       "      <td>1</td>\n",
       "    </tr>\n",
       "    <tr>\n",
       "      <th>2</th>\n",
       "      <td>3215.240</td>\n",
       "      <td>126331648</td>\n",
       "      <td>0.038156</td>\n",
       "      <td>Write</td>\n",
       "      <td>1000000</td>\n",
       "      <td>2</td>\n",
       "    </tr>\n",
       "    <tr>\n",
       "      <th>3</th>\n",
       "      <td>5865.138</td>\n",
       "      <td>126331648</td>\n",
       "      <td>0.020711</td>\n",
       "      <td>Read</td>\n",
       "      <td>1000000</td>\n",
       "      <td>2</td>\n",
       "    </tr>\n",
       "    <tr>\n",
       "      <th>4</th>\n",
       "      <td>5323.062</td>\n",
       "      <td>189497472</td>\n",
       "      <td>0.033957</td>\n",
       "      <td>Write</td>\n",
       "      <td>1000000</td>\n",
       "      <td>3</td>\n",
       "    </tr>\n",
       "    <tr>\n",
       "      <th>5</th>\n",
       "      <td>8610.966</td>\n",
       "      <td>189497472</td>\n",
       "      <td>0.020996</td>\n",
       "      <td>Read</td>\n",
       "      <td>1000000</td>\n",
       "      <td>3</td>\n",
       "    </tr>\n",
       "    <tr>\n",
       "      <th>6</th>\n",
       "      <td>6058.114</td>\n",
       "      <td>252663296</td>\n",
       "      <td>0.040299</td>\n",
       "      <td>Write</td>\n",
       "      <td>1000000</td>\n",
       "      <td>4</td>\n",
       "    </tr>\n",
       "    <tr>\n",
       "      <th>7</th>\n",
       "      <td>9782.834</td>\n",
       "      <td>252663296</td>\n",
       "      <td>0.024712</td>\n",
       "      <td>Read</td>\n",
       "      <td>1000000</td>\n",
       "      <td>4</td>\n",
       "    </tr>\n",
       "    <tr>\n",
       "      <th>8</th>\n",
       "      <td>2301.228</td>\n",
       "      <td>120165824</td>\n",
       "      <td>0.049801</td>\n",
       "      <td>Write</td>\n",
       "      <td>2500000</td>\n",
       "      <td>1</td>\n",
       "    </tr>\n",
       "    <tr>\n",
       "      <th>9</th>\n",
       "      <td>3229.234</td>\n",
       "      <td>120165824</td>\n",
       "      <td>0.035500</td>\n",
       "      <td>Read</td>\n",
       "      <td>2500000</td>\n",
       "      <td>1</td>\n",
       "    </tr>\n",
       "    <tr>\n",
       "      <th>10</th>\n",
       "      <td>4266.356</td>\n",
       "      <td>240331648</td>\n",
       "      <td>0.053734</td>\n",
       "      <td>Write</td>\n",
       "      <td>2500000</td>\n",
       "      <td>2</td>\n",
       "    </tr>\n",
       "    <tr>\n",
       "      <th>11</th>\n",
       "      <td>6220.592</td>\n",
       "      <td>240331648</td>\n",
       "      <td>0.036853</td>\n",
       "      <td>Read</td>\n",
       "      <td>2500000</td>\n",
       "      <td>2</td>\n",
       "    </tr>\n",
       "    <tr>\n",
       "      <th>12</th>\n",
       "      <td>6080.420</td>\n",
       "      <td>360497472</td>\n",
       "      <td>0.056542</td>\n",
       "      <td>Write</td>\n",
       "      <td>2500000</td>\n",
       "      <td>3</td>\n",
       "    </tr>\n",
       "    <tr>\n",
       "      <th>13</th>\n",
       "      <td>8691.328</td>\n",
       "      <td>360497472</td>\n",
       "      <td>0.039568</td>\n",
       "      <td>Read</td>\n",
       "      <td>2500000</td>\n",
       "      <td>3</td>\n",
       "    </tr>\n",
       "    <tr>\n",
       "      <th>14</th>\n",
       "      <td>7197.320</td>\n",
       "      <td>480663296</td>\n",
       "      <td>0.063730</td>\n",
       "      <td>Write</td>\n",
       "      <td>2500000</td>\n",
       "      <td>4</td>\n",
       "    </tr>\n",
       "    <tr>\n",
       "      <th>15</th>\n",
       "      <td>10283.120</td>\n",
       "      <td>480663296</td>\n",
       "      <td>0.044580</td>\n",
       "      <td>Read</td>\n",
       "      <td>2500000</td>\n",
       "      <td>4</td>\n",
       "    </tr>\n",
       "    <tr>\n",
       "      <th>16</th>\n",
       "      <td>2584.676</td>\n",
       "      <td>215165824</td>\n",
       "      <td>0.079400</td>\n",
       "      <td>Write</td>\n",
       "      <td>5000000</td>\n",
       "      <td>1</td>\n",
       "    </tr>\n",
       "    <tr>\n",
       "      <th>17</th>\n",
       "      <td>3443.590</td>\n",
       "      <td>215165824</td>\n",
       "      <td>0.059606</td>\n",
       "      <td>Read</td>\n",
       "      <td>5000000</td>\n",
       "      <td>1</td>\n",
       "    </tr>\n",
       "    <tr>\n",
       "      <th>18</th>\n",
       "      <td>4627.318</td>\n",
       "      <td>430331648</td>\n",
       "      <td>0.088704</td>\n",
       "      <td>Write</td>\n",
       "      <td>5000000</td>\n",
       "      <td>2</td>\n",
       "    </tr>\n",
       "    <tr>\n",
       "      <th>19</th>\n",
       "      <td>6326.288</td>\n",
       "      <td>430331648</td>\n",
       "      <td>0.064877</td>\n",
       "      <td>Read</td>\n",
       "      <td>5000000</td>\n",
       "      <td>2</td>\n",
       "    </tr>\n",
       "    <tr>\n",
       "      <th>20</th>\n",
       "      <td>6581.436</td>\n",
       "      <td>645497472</td>\n",
       "      <td>0.093537</td>\n",
       "      <td>Write</td>\n",
       "      <td>5000000</td>\n",
       "      <td>3</td>\n",
       "    </tr>\n",
       "    <tr>\n",
       "      <th>21</th>\n",
       "      <td>8757.388</td>\n",
       "      <td>645497472</td>\n",
       "      <td>0.070305</td>\n",
       "      <td>Read</td>\n",
       "      <td>5000000</td>\n",
       "      <td>3</td>\n",
       "    </tr>\n",
       "    <tr>\n",
       "      <th>22</th>\n",
       "      <td>7488.390</td>\n",
       "      <td>860663296</td>\n",
       "      <td>0.110667</td>\n",
       "      <td>Write</td>\n",
       "      <td>5000000</td>\n",
       "      <td>4</td>\n",
       "    </tr>\n",
       "    <tr>\n",
       "      <th>23</th>\n",
       "      <td>10117.974</td>\n",
       "      <td>860663296</td>\n",
       "      <td>0.081140</td>\n",
       "      <td>Read</td>\n",
       "      <td>5000000</td>\n",
       "      <td>4</td>\n",
       "    </tr>\n",
       "    <tr>\n",
       "      <th>24</th>\n",
       "      <td>2752.036</td>\n",
       "      <td>405165824</td>\n",
       "      <td>0.140409</td>\n",
       "      <td>Write</td>\n",
       "      <td>10000000</td>\n",
       "      <td>1</td>\n",
       "    </tr>\n",
       "    <tr>\n",
       "      <th>25</th>\n",
       "      <td>3450.070</td>\n",
       "      <td>405165824</td>\n",
       "      <td>0.112035</td>\n",
       "      <td>Read</td>\n",
       "      <td>10000000</td>\n",
       "      <td>1</td>\n",
       "    </tr>\n",
       "    <tr>\n",
       "      <th>26</th>\n",
       "      <td>4904.372</td>\n",
       "      <td>810331648</td>\n",
       "      <td>0.157579</td>\n",
       "      <td>Write</td>\n",
       "      <td>10000000</td>\n",
       "      <td>2</td>\n",
       "    </tr>\n",
       "    <tr>\n",
       "      <th>27</th>\n",
       "      <td>6423.330</td>\n",
       "      <td>810331648</td>\n",
       "      <td>0.120317</td>\n",
       "      <td>Read</td>\n",
       "      <td>10000000</td>\n",
       "      <td>2</td>\n",
       "    </tr>\n",
       "    <tr>\n",
       "      <th>28</th>\n",
       "      <td>6788.908</td>\n",
       "      <td>1215497472</td>\n",
       "      <td>0.170954</td>\n",
       "      <td>Write</td>\n",
       "      <td>10000000</td>\n",
       "      <td>3</td>\n",
       "    </tr>\n",
       "    <tr>\n",
       "      <th>29</th>\n",
       "      <td>8987.238</td>\n",
       "      <td>1215497472</td>\n",
       "      <td>0.128982</td>\n",
       "      <td>Read</td>\n",
       "      <td>10000000</td>\n",
       "      <td>3</td>\n",
       "    </tr>\n",
       "    <tr>\n",
       "      <th>30</th>\n",
       "      <td>7963.622</td>\n",
       "      <td>1620663296</td>\n",
       "      <td>0.194230</td>\n",
       "      <td>Write</td>\n",
       "      <td>10000000</td>\n",
       "      <td>4</td>\n",
       "    </tr>\n",
       "    <tr>\n",
       "      <th>31</th>\n",
       "      <td>9869.474</td>\n",
       "      <td>1620663296</td>\n",
       "      <td>0.156652</td>\n",
       "      <td>Read</td>\n",
       "      <td>10000000</td>\n",
       "      <td>4</td>\n",
       "    </tr>\n",
       "    <tr>\n",
       "      <th>32</th>\n",
       "      <td>3001.162</td>\n",
       "      <td>975165824</td>\n",
       "      <td>0.309883</td>\n",
       "      <td>Write</td>\n",
       "      <td>25000000</td>\n",
       "      <td>1</td>\n",
       "    </tr>\n",
       "    <tr>\n",
       "      <th>33</th>\n",
       "      <td>3507.362</td>\n",
       "      <td>975165824</td>\n",
       "      <td>0.265472</td>\n",
       "      <td>Read</td>\n",
       "      <td>25000000</td>\n",
       "      <td>1</td>\n",
       "    </tr>\n",
       "    <tr>\n",
       "      <th>34</th>\n",
       "      <td>5098.440</td>\n",
       "      <td>1950331648</td>\n",
       "      <td>0.364844</td>\n",
       "      <td>Write</td>\n",
       "      <td>25000000</td>\n",
       "      <td>2</td>\n",
       "    </tr>\n",
       "    <tr>\n",
       "      <th>35</th>\n",
       "      <td>6260.510</td>\n",
       "      <td>1950331648</td>\n",
       "      <td>0.297108</td>\n",
       "      <td>Read</td>\n",
       "      <td>25000000</td>\n",
       "      <td>2</td>\n",
       "    </tr>\n",
       "    <tr>\n",
       "      <th>36</th>\n",
       "      <td>4082.224</td>\n",
       "      <td>2925497472</td>\n",
       "      <td>0.733986</td>\n",
       "      <td>Write</td>\n",
       "      <td>25000000</td>\n",
       "      <td>3</td>\n",
       "    </tr>\n",
       "    <tr>\n",
       "      <th>37</th>\n",
       "      <td>8443.328</td>\n",
       "      <td>2925497472</td>\n",
       "      <td>0.330834</td>\n",
       "      <td>Read</td>\n",
       "      <td>25000000</td>\n",
       "      <td>3</td>\n",
       "    </tr>\n",
       "    <tr>\n",
       "      <th>38</th>\n",
       "      <td>1663.552</td>\n",
       "      <td>3900663296</td>\n",
       "      <td>2.238908</td>\n",
       "      <td>Write</td>\n",
       "      <td>25000000</td>\n",
       "      <td>4</td>\n",
       "    </tr>\n",
       "    <tr>\n",
       "      <th>39</th>\n",
       "      <td>9302.560</td>\n",
       "      <td>3900663296</td>\n",
       "      <td>0.399920</td>\n",
       "      <td>Read</td>\n",
       "      <td>25000000</td>\n",
       "      <td>4</td>\n",
       "    </tr>\n",
       "    <tr>\n",
       "      <th>40</th>\n",
       "      <td>2780.676</td>\n",
       "      <td>1925165824</td>\n",
       "      <td>0.663495</td>\n",
       "      <td>Write</td>\n",
       "      <td>50000000</td>\n",
       "      <td>1</td>\n",
       "    </tr>\n",
       "    <tr>\n",
       "      <th>41</th>\n",
       "      <td>3430.648</td>\n",
       "      <td>1925165824</td>\n",
       "      <td>0.535347</td>\n",
       "      <td>Read</td>\n",
       "      <td>50000000</td>\n",
       "      <td>1</td>\n",
       "    </tr>\n",
       "    <tr>\n",
       "      <th>42</th>\n",
       "      <td>1514.944</td>\n",
       "      <td>3850331648</td>\n",
       "      <td>2.512136</td>\n",
       "      <td>Write</td>\n",
       "      <td>50000000</td>\n",
       "      <td>2</td>\n",
       "    </tr>\n",
       "    <tr>\n",
       "      <th>43</th>\n",
       "      <td>6230.846</td>\n",
       "      <td>3850331648</td>\n",
       "      <td>0.589625</td>\n",
       "      <td>Read</td>\n",
       "      <td>50000000</td>\n",
       "      <td>2</td>\n",
       "    </tr>\n",
       "    <tr>\n",
       "      <th>44</th>\n",
       "      <td>1494.074</td>\n",
       "      <td>5775497472</td>\n",
       "      <td>3.760580</td>\n",
       "      <td>Write</td>\n",
       "      <td>50000000</td>\n",
       "      <td>3</td>\n",
       "    </tr>\n",
       "    <tr>\n",
       "      <th>45</th>\n",
       "      <td>8015.984</td>\n",
       "      <td>5775497472</td>\n",
       "      <td>0.687640</td>\n",
       "      <td>Read</td>\n",
       "      <td>50000000</td>\n",
       "      <td>3</td>\n",
       "    </tr>\n",
       "    <tr>\n",
       "      <th>46</th>\n",
       "      <td>1099.428</td>\n",
       "      <td>7700663296</td>\n",
       "      <td>6.684188</td>\n",
       "      <td>Write</td>\n",
       "      <td>50000000</td>\n",
       "      <td>4</td>\n",
       "    </tr>\n",
       "  </tbody>\n",
       "</table>\n",
       "</div>"
      ],
      "text/plain": [
       "    Bandwidth        Size   MaxTime ReadWrite  NumParticles  NumProcesses\n",
       "0    1980.008    63165824  0.030433     Write       1000000             1\n",
       "1    2999.070    63165824  0.020202      Read       1000000             1\n",
       "2    3215.240   126331648  0.038156     Write       1000000             2\n",
       "3    5865.138   126331648  0.020711      Read       1000000             2\n",
       "4    5323.062   189497472  0.033957     Write       1000000             3\n",
       "5    8610.966   189497472  0.020996      Read       1000000             3\n",
       "6    6058.114   252663296  0.040299     Write       1000000             4\n",
       "7    9782.834   252663296  0.024712      Read       1000000             4\n",
       "8    2301.228   120165824  0.049801     Write       2500000             1\n",
       "9    3229.234   120165824  0.035500      Read       2500000             1\n",
       "10   4266.356   240331648  0.053734     Write       2500000             2\n",
       "11   6220.592   240331648  0.036853      Read       2500000             2\n",
       "12   6080.420   360497472  0.056542     Write       2500000             3\n",
       "13   8691.328   360497472  0.039568      Read       2500000             3\n",
       "14   7197.320   480663296  0.063730     Write       2500000             4\n",
       "15  10283.120   480663296  0.044580      Read       2500000             4\n",
       "16   2584.676   215165824  0.079400     Write       5000000             1\n",
       "17   3443.590   215165824  0.059606      Read       5000000             1\n",
       "18   4627.318   430331648  0.088704     Write       5000000             2\n",
       "19   6326.288   430331648  0.064877      Read       5000000             2\n",
       "20   6581.436   645497472  0.093537     Write       5000000             3\n",
       "21   8757.388   645497472  0.070305      Read       5000000             3\n",
       "22   7488.390   860663296  0.110667     Write       5000000             4\n",
       "23  10117.974   860663296  0.081140      Read       5000000             4\n",
       "24   2752.036   405165824  0.140409     Write      10000000             1\n",
       "25   3450.070   405165824  0.112035      Read      10000000             1\n",
       "26   4904.372   810331648  0.157579     Write      10000000             2\n",
       "27   6423.330   810331648  0.120317      Read      10000000             2\n",
       "28   6788.908  1215497472  0.170954     Write      10000000             3\n",
       "29   8987.238  1215497472  0.128982      Read      10000000             3\n",
       "30   7963.622  1620663296  0.194230     Write      10000000             4\n",
       "31   9869.474  1620663296  0.156652      Read      10000000             4\n",
       "32   3001.162   975165824  0.309883     Write      25000000             1\n",
       "33   3507.362   975165824  0.265472      Read      25000000             1\n",
       "34   5098.440  1950331648  0.364844     Write      25000000             2\n",
       "35   6260.510  1950331648  0.297108      Read      25000000             2\n",
       "36   4082.224  2925497472  0.733986     Write      25000000             3\n",
       "37   8443.328  2925497472  0.330834      Read      25000000             3\n",
       "38   1663.552  3900663296  2.238908     Write      25000000             4\n",
       "39   9302.560  3900663296  0.399920      Read      25000000             4\n",
       "40   2780.676  1925165824  0.663495     Write      50000000             1\n",
       "41   3430.648  1925165824  0.535347      Read      50000000             1\n",
       "42   1514.944  3850331648  2.512136     Write      50000000             2\n",
       "43   6230.846  3850331648  0.589625      Read      50000000             2\n",
       "44   1494.074  5775497472  3.760580     Write      50000000             3\n",
       "45   8015.984  5775497472  0.687640      Read      50000000             3\n",
       "46   1099.428  7700663296  6.684188     Write      50000000             4"
      ]
     },
     "execution_count": 5,
     "metadata": {},
     "output_type": "execute_result"
    }
   ],
   "source": [
    "df_local"
   ]
  },
  {
   "cell_type": "code",
   "execution_count": 6,
   "metadata": {},
   "outputs": [
    {
     "ename": "NameError",
     "evalue": "name 'df' is not defined",
     "output_type": "error",
     "traceback": [
      "\u001b[0;31m---------------------------------------------------------------------------\u001b[0m",
      "\u001b[0;31mNameError\u001b[0m                                 Traceback (most recent call last)",
      "\u001b[0;32m<ipython-input-6-1afeb4a2750e>\u001b[0m in \u001b[0;36m<module>\u001b[0;34m\u001b[0m\n\u001b[0;32m----> 1\u001b[0;31m \u001b[0mdf_read\u001b[0m \u001b[0;34m=\u001b[0m \u001b[0mdf\u001b[0m\u001b[0;34m[\u001b[0m\u001b[0mdf\u001b[0m\u001b[0;34m[\u001b[0m\u001b[0;34m\"ReadWrite\"\u001b[0m\u001b[0;34m]\u001b[0m\u001b[0;34m==\u001b[0m\u001b[0;34m\"Read\"\u001b[0m\u001b[0;34m]\u001b[0m\u001b[0;34m\u001b[0m\u001b[0;34m\u001b[0m\u001b[0m\n\u001b[0m",
      "\u001b[0;31mNameError\u001b[0m: name 'df' is not defined"
     ]
    }
   ],
   "source": [
    "df_read = df[df[\"ReadWrite\"]==\"Read\"]"
   ]
  },
  {
   "cell_type": "code",
   "execution_count": 7,
   "metadata": {},
   "outputs": [],
   "source": [
    "import matplotlib.pyplot as plt\n",
    "import numpy as np"
   ]
  },
  {
   "cell_type": "code",
   "execution_count": 8,
   "metadata": {},
   "outputs": [],
   "source": [
    "def autolabel(rects):\n",
    "    for rect in rects:\n",
    "        h = rect.get_height()\n",
    "        ax.text(rect.get_x()+rect.get_width()/2., 1.05*h, '%d'%int(h),\n",
    "                ha='center', va='bottom')"
   ]
  },
  {
   "cell_type": "code",
   "execution_count": 10,
   "metadata": {
    "scrolled": false
   },
   "outputs": [
    {
     "name": "stdout",
     "output_type": "stream",
     "text": [
      "--------------------------------------------------------------------\n",
      "Read--1000000 particles\n"
     ]
    },
    {
     "data": {
      "image/png": "[encoded data removed]",
      "text/plain": [
       "<Figure size 936x432 with 1 Axes>"
      ]
     },
     "metadata": {
      "needs_background": "light"
     },
     "output_type": "display_data"
    },
    {
     "name": "stdout",
     "output_type": "stream",
     "text": [
      "--------------------------------------------------------------------\n",
      "--------------------------------------------------------------------\n",
      "Read--2500000 particles\n"
     ]
    },
    {
     "data": {
      "image/png": "[encoded data removed]",
      "text/plain": [
       "<Figure size 936x432 with 1 Axes>"
      ]
     },
     "metadata": {
      "needs_background": "light"
     },
     "output_type": "display_data"
    },
    {
     "name": "stdout",
     "output_type": "stream",
     "text": [
      "--------------------------------------------------------------------\n",
      "--------------------------------------------------------------------\n",
      "Read--5000000 particles\n"
     ]
    },
    {
     "data": {
      "image/png": "[encoded data removed]",
      "text/plain": [
       "<Figure size 936x432 with 1 Axes>"
      ]
     },
     "metadata": {
      "needs_background": "light"
     },
     "output_type": "display_data"
    },
    {
     "name": "stdout",
     "output_type": "stream",
     "text": [
      "--------------------------------------------------------------------\n",
      "--------------------------------------------------------------------\n",
      "Read--10000000 particles\n"
     ]
    },
    {
     "data": {
      "image/png": "[encoded data removed]",
      "text/plain": [
       "<Figure size 936x432 with 1 Axes>"
      ]
     },
     "metadata": {
      "needs_background": "light"
     },
     "output_type": "display_data"
    },
    {
     "name": "stdout",
     "output_type": "stream",
     "text": [
      "--------------------------------------------------------------------\n",
      "--------------------------------------------------------------------\n",
      "Read--25000000 particles\n"
     ]
    },
    {
     "data": {
      "image/png": "[encoded data removed]",
      "text/plain": [
       "<Figure size 936x432 with 1 Axes>"
      ]
     },
     "metadata": {
      "needs_background": "light"
     },
     "output_type": "display_data"
    },
    {
     "name": "stdout",
     "output_type": "stream",
     "text": [
      "--------------------------------------------------------------------\n",
      "--------------------------------------------------------------------\n",
      "Write--1000000 particles\n"
     ]
    },
    {
     "data": {
      "image/png": "[encoded data removed]",
      "text/plain": [
       "<Figure size 936x432 with 1 Axes>"
      ]
     },
     "metadata": {
      "needs_background": "light"
     },
     "output_type": "display_data"
    },
    {
     "name": "stdout",
     "output_type": "stream",
     "text": [
      "--------------------------------------------------------------------\n",
      "--------------------------------------------------------------------\n",
      "Write--2500000 particles\n"
     ]
    },
    {
     "data": {
      "image/png": "[encoded data removed]",
      "text/plain": [
       "<Figure size 936x432 with 1 Axes>"
      ]
     },
     "metadata": {
      "needs_background": "light"
     },
     "output_type": "display_data"
    },
    {
     "name": "stdout",
     "output_type": "stream",
     "text": [
      "--------------------------------------------------------------------\n",
      "--------------------------------------------------------------------\n",
      "Write--5000000 particles\n"
     ]
    },
    {
     "data": {
      "image/png": "[encoded data removed]",
      "text/plain": [
       "<Figure size 936x432 with 1 Axes>"
      ]
     },
     "metadata": {
      "needs_background": "light"
     },
     "output_type": "display_data"
    },
    {
     "name": "stdout",
     "output_type": "stream",
     "text": [
      "--------------------------------------------------------------------\n",
      "--------------------------------------------------------------------\n",
      "Write--10000000 particles\n"
     ]
    },
    {
     "data": {
      "image/png": "[encoded data removed]",
      "text/plain": [
       "<Figure size 936x432 with 1 Axes>"
      ]
     },
     "metadata": {
      "needs_background": "light"
     },
     "output_type": "display_data"
    },
    {
     "name": "stdout",
     "output_type": "stream",
     "text": [
      "--------------------------------------------------------------------\n",
      "--------------------------------------------------------------------\n",
      "Write--25000000 particles\n"
     ]
    },
    {
     "data": {
      "image/png": "[encoded data removed]",
      "text/plain": [
       "<Figure size 936x432 with 1 Axes>"
      ]
     },
     "metadata": {
      "needs_background": "light"
     },
     "output_type": "display_data"
    },
    {
     "name": "stdout",
     "output_type": "stream",
     "text": [
      "--------------------------------------------------------------------\n",
      "--------------------------------------------------------------------\n",
      "Write--50000000 particles\n"
     ]
    },
    {
     "data": {
      "image/png": "[encoded data removed]",
      "text/plain": [
       "<Figure size 936x432 with 1 Axes>"
      ]
     },
     "metadata": {
      "needs_background": "light"
     },
     "output_type": "display_data"
    },
    {
     "name": "stdout",
     "output_type": "stream",
     "text": [
      "--------------------------------------------------------------------\n"
     ]
    }
   ],
   "source": [
    "read_write = [\"Read\", \"Write\"]\n",
    "num_proc = [1,2,3,4]\n",
    "num_part = [1000000, 2500000, 5000000, 10000000, 25000000, 50000000]\n",
    "width = 0.27\n",
    "ind = np.arange(4)\n",
    "\n",
    "\n",
    "for i in read_write:\n",
    "    df1 = df_local[df_local[\"ReadWrite\"]==i]\n",
    "    df2 = df_volume[df_volume[\"ReadWrite\"]==i]\n",
    "    df3 = df_bind[df_bind[\"ReadWrite\"]==i]\n",
    "    \n",
    "    for j in num_part:\n",
    "        if i==\"Read\" and j==50000000:\n",
    "            continue\n",
    "        df11 = df1[df1[\"NumParticles\"]==j]\n",
    "        df22 = df2[df2[\"NumParticles\"]==j]\n",
    "        df33 = df3[df3[\"NumParticles\"]==j]\n",
    "        print(\"--------------------------------------------------------------------\")\n",
    "        print(i + \"--\" + str(j) + \" particles\")\n",
    "        fig = plt.figure(figsize=(13, 6))\n",
    "        ax = fig.add_subplot(111)\n",
    "        xvals = []\n",
    "        yvals = []\n",
    "        zvals = []\n",
    "        for k in num_proc:\n",
    "            xvals.append(float(df11[df11[\"NumProcesses\"]==k][\"Bandwidth\"]))\n",
    "            yvals.append(float(df22[df22[\"NumProcesses\"]==k][\"Bandwidth\"]))\n",
    "            zvals.append(float(df33[df33[\"NumProcesses\"]==k][\"Bandwidth\"]))\n",
    "        \n",
    "        rects1 = ax.bar(ind, xvals, width, color='r')\n",
    "        rects2 = ax.bar([i+width for i in ind], yvals, width, color='g')\n",
    "        rects3 = ax.bar([i+width*2 for i in ind], zvals, width, color='b')\n",
    "        ax.set_xlabel(\"Number of MPI Processes\")\n",
    "        ax.set_ylabel(\"Bandwidth(MB/s)\")\n",
    "        ax.set_xticks([i+width for i in ind])\n",
    "        ax.set_xticklabels((1,2,3,4))\n",
    "        ax.legend((rects1[0], rects2[0], rects3[0]), (\"local\", \"volumes\", \"bind_mount\"))\n",
    "        #autolabel(rects1)\n",
    "        #autolabel(rects2)\n",
    "        #autolabel(rects3)\n",
    "\n",
    "        plt.show()\n",
    "        print(\"--------------------------------------------------------------------\")"
   ]
  },
  {
   "cell_type": "code",
   "execution_count": null,
   "metadata": {},
   "outputs": [],
   "source": []
  }
 ],
 "metadata": {
  "kernelspec": {
   "display_name": "Python 3",
   "language": "python",
   "name": "python3"
  },
  "language_info": {
   "codemirror_mode": {
    "name": "ipython",
    "version": 3
   },
   "file_extension": ".py",
   "mimetype": "text/x-python",
   "name": "python",
   "nbconvert_exporter": "python",
   "pygments_lexer": "ipython3",
   "version": "3.8.6"
  }
 },
 "nbformat": 4,
 "nbformat_minor": 4
}
